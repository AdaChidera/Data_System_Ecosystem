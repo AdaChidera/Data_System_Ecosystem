{
 "cells": [
  {
   "cell_type": "markdown",
   "id": "d36d2473-b9f5-40fb-a2df-93ebf2d41f8d",
   "metadata": {},
   "source": [
    "# Data Science Tools and Ecosystem"
   ]
  },
  {
   "cell_type": "markdown",
   "id": "c660365f-ee25-4a1e-ba17-ae9d9c07a9c4",
   "metadata": {},
   "source": [
    "This notebook provides an overview of the data science tools and ecosystem."
   ]
  },
  {
   "cell_type": "markdown",
   "id": "666d85ce-cc6a-4bf9-b3c2-7cd0b38d1f88",
   "metadata": {},
   "source": [
    "**Objectives:**\n",
    "* Commonly used languages in data science\n",
    "* Data sciences libraries\n",
    "* Data science tools\n",
    "* Arithmetic expressions in Python"
   ]
  },
  {
   "cell_type": "markdown",
   "id": "5c043b41-a3f0-4a0f-b4bd-d76ef1547791",
   "metadata": {},
   "source": [
    "The commonly used languages in data science are:\n",
    "1. SQL\n",
    "2. R\n",
    "3. Python\n",
    "4. Scala"
   ]
  },
  {
   "cell_type": "markdown",
   "id": "e9b8515a-72e3-460e-bef4-ec7e33cba892",
   "metadata": {},
   "source": [
    "Some commonly used data sciences libraries are:\n",
    "1. TensorFlow\n",
    "2. NumPy\n",
    "3. Pandas\n",
    "4. Matplotlib\n",
    "5. Keras\n",
    "6. SciKit-Learn\n",
    "7. PyTorch    "
   ]
  },
  {
   "cell_type": "markdown",
   "id": "aa82f283-7fa0-406f-9715-3cffe8c61c58",
   "metadata": {},
   "source": [
    "|Data Science Tools|\n",
    "|------------------|\n",
    "|Jupyter Notebooks|\n",
    "|RStudio|\n",
    "|Visual Studio Code (VS Code)|"
   ]
  },
  {
   "cell_type": "markdown",
   "id": "781d103b-6335-4c2b-bdb7-68ba71061804",
   "metadata": {},
   "source": [
    "### Below are a few examples of evaluating arithmetic expressions in Python"
   ]
  },
  {
   "cell_type": "code",
   "execution_count": 7,
   "id": "143675da-2c88-4bff-98a4-49722a94a771",
   "metadata": {},
   "outputs": [
    {
     "name": "stdout",
     "output_type": "stream",
     "text": [
      "17\n"
     ]
    }
   ],
   "source": [
    "# This is a simple arithmetic expression to mutiply then add integers\n",
    "print((3*4)+5)"
   ]
  },
  {
   "cell_type": "code",
   "execution_count": 15,
   "id": "b7604504-dfee-457a-916a-3abfb4b0bf2f",
   "metadata": {},
   "outputs": [
    {
     "name": "stdout",
     "output_type": "stream",
     "text": [
      "3.3333333333333335 hours\n"
     ]
    }
   ],
   "source": [
    "# This will convert 200 minutes to hours by diving by 60\n",
    "hours = 200 / 60\n",
    "print(str(hours) + \" hours\")"
   ]
  },
  {
   "cell_type": "markdown",
   "id": "622e76ab-ee2e-4bb2-a0f0-174af2f2202c",
   "metadata": {},
   "source": [
    "## Author\n",
    "Onuoha Chidera A."
   ]
  }
 ],
 "metadata": {
  "kernelspec": {
   "display_name": "Python",
   "language": "python",
   "name": "conda-env-python-py"
  },
  "language_info": {
   "codemirror_mode": {
    "name": "ipython",
    "version": 3
   },
   "file_extension": ".py",
   "mimetype": "text/x-python",
   "name": "python",
   "nbconvert_exporter": "python",
   "pygments_lexer": "ipython3",
   "version": "3.7.12"
  }
 },
 "nbformat": 4,
 "nbformat_minor": 5
}
